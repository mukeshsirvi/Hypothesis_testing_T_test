{
 "cells": [
  {
   "cell_type": "markdown",
   "id": "772cad58",
   "metadata": {},
   "source": [
    "# T Test"
   ]
  },
  {
   "cell_type": "code",
   "execution_count": 24,
   "id": "55decad4",
   "metadata": {},
   "outputs": [],
   "source": [
    "import pandas as pd\n",
    "import numpy as np\n",
    "import matplotlib.pyplot as plt\n",
    "from sklearn.preprocessing import scale"
   ]
  },
  {
   "cell_type": "code",
   "execution_count": 2,
   "id": "d1551138",
   "metadata": {},
   "outputs": [],
   "source": [
    "#creating random data set of different weights for individuals\n",
    "average_weight = [33,34,35,36,32,28,29,30,31,37,36,35,33,34,31,40,24]"
   ]
  },
  {
   "cell_type": "markdown",
   "id": "3b7c18f8",
   "metadata": {},
   "source": [
    "Hypothesis testing is all about assumption we create.\n",
    "* Average weight in class 12th is 35, Means Hypothesized mean is 35\n",
    "* Null Hypothesis , H0 = Average age in class 12th is 35\n",
    "* Alt Hypothesis , Ha = Average age in class 12th is not 35"
   ]
  },
  {
   "cell_type": "code",
   "execution_count": 5,
   "id": "05f336ad",
   "metadata": {},
   "outputs": [],
   "source": [
    "from scipy import stats"
   ]
  },
  {
   "cell_type": "markdown",
   "id": "f6abea95",
   "metadata": {},
   "source": [
    "# One sample T test\n",
    "It is used for only one sample"
   ]
  },
  {
   "cell_type": "code",
   "execution_count": 7,
   "id": "9f447e9f",
   "metadata": {},
   "outputs": [
    {
     "data": {
      "text/plain": [
       "Ttest_1sampResult(statistic=-2.354253623010381, pvalue=0.03166804359862131)"
      ]
     },
     "execution_count": 7,
     "metadata": {},
     "output_type": "execute_result"
    }
   ],
   "source": [
    "stats.ttest_1samp(average_weight,popmean=35)"
   ]
  },
  {
   "cell_type": "markdown",
   "id": "f5764229",
   "metadata": {},
   "source": [
    "P value = 0.031 = 3.1%, This means that the probablity (or chance) of avaerage_weight 35 is only 3.1%. That is our Null Hypothesis is Wrong.\n",
    "* Generalizing, if P value < 5 % , we REJECT Null Hypothesis.\n",
    "* In our example, we REJECT H0, and conclude Ha that average_age in class 12th is NOT 35"
   ]
  },
  {
   "cell_type": "markdown",
   "id": "b5111b9d",
   "metadata": {},
   "source": [
    "# Two sample independent T test"
   ]
  },
  {
   "cell_type": "code",
   "execution_count": 8,
   "id": "e8245f22",
   "metadata": {},
   "outputs": [
    {
     "data": {
      "text/plain": [
       "[33, 34, 35, 36, 32, 28, 29, 30, 31, 37, 36, 35, 33, 34, 31, 40, 24]"
      ]
     },
     "execution_count": 8,
     "metadata": {},
     "output_type": "execute_result"
    }
   ],
   "source": [
    "#creating an random data set of student in class 11th with each student weight\n",
    "average_weight1 = [29,31,28,33,31,34,32,20,32,28,27,26,30,31,34,30]\n",
    "average_weight #average weight of class 12th student as seen in One-Sample T-Test"
   ]
  },
  {
   "cell_type": "markdown",
   "id": "2e6912c2",
   "metadata": {},
   "source": [
    "creating our assumptions\n",
    "* Null Hypothesis , H0 = Average_weight of class 12th & class 11th student is same.\n",
    "* Alt Hypothesis , Ha = Average_weight of class 12th & class 11th student is not same."
   ]
  },
  {
   "cell_type": "code",
   "execution_count": 9,
   "id": "c5a17bf8",
   "metadata": {},
   "outputs": [
    {
     "data": {
      "text/plain": [
       "Ttest_indResult(statistic=2.404544177024533, pvalue=0.022355127034138323)"
      ]
     },
     "execution_count": 9,
     "metadata": {},
     "output_type": "execute_result"
    }
   ],
   "source": [
    "stats.ttest_ind(average_weight,average_weight1)"
   ]
  },
  {
   "cell_type": "markdown",
   "id": "d788c6d3",
   "metadata": {},
   "source": [
    "P value = 0.022 = 2.2%, This means that the probablity (or chance) of average_weight of class 12th & class 11th students is same is only 2.2%. \n",
    "* Null Hypothesis is Wrong.\n",
    "* We REJECT Null Hypothesis. Concluding,Average_weigth of class 12th & class 11th student is not same."
   ]
  },
  {
   "cell_type": "markdown",
   "id": "d2047086",
   "metadata": {},
   "source": [
    "# Two Sample paired (or Relational) T - test"
   ]
  },
  {
   "cell_type": "markdown",
   "id": "09699c1f",
   "metadata": {},
   "source": [
    "We use Two Sample paired T-Test with keep in mind in simple way to check the effect before & after.\n",
    "Studying effect of metaphor medicine on headache for individual who are suffering from migrain.\n",
    "* let's create random data set of individuals who are suffering from headache & we have given them two medicines one is paracetamol & another is metaphor,took the reading before having metaphor & after having metaphor."
   ]
  },
  {
   "cell_type": "code",
   "execution_count": 10,
   "id": "15ff718e",
   "metadata": {},
   "outputs": [],
   "source": [
    "#let's create random data set of individuals who are suffering from headache & we have given them two medic\n",
    "before_metaphor = [68,45,46,34,23,67,80,120,34,54,68]\n",
    "after_metaphor = [28,25,26,24,13,37,30,30,54,34,38]"
   ]
  },
  {
   "cell_type": "markdown",
   "id": "74c36e53",
   "metadata": {},
   "source": [
    "* H NULL = H0 = Response times before and after metaphor are same. This means Metaphor has NO EFFECT\n",
    "* H Alternative = Ha = Response times before and after Metaphor are NOT same. This means Metaphor has EFFECT"
   ]
  },
  {
   "cell_type": "code",
   "execution_count": 11,
   "id": "c30e6195",
   "metadata": {},
   "outputs": [
    {
     "data": {
      "text/plain": [
       "Ttest_relResult(statistic=3.2771720738937873, pvalue=0.00832867082029929)"
      ]
     },
     "execution_count": 11,
     "metadata": {},
     "output_type": "execute_result"
    }
   ],
   "source": [
    "stats.ttest_rel(before_metaphor,after_metaphor)"
   ]
  },
  {
   "cell_type": "markdown",
   "id": "9681facf",
   "metadata": {},
   "source": [
    "P value = 0.008, 0.8% . P < 5%, So we reject H0 and accept Ha, This means Metaphor has EFFECT on migrain suffered individuls"
   ]
  },
  {
   "cell_type": "markdown",
   "id": "87aa99c2",
   "metadata": {},
   "source": [
    "# Testing on dataset"
   ]
  },
  {
   "cell_type": "code",
   "execution_count": 12,
   "id": "035525f5",
   "metadata": {},
   "outputs": [
    {
     "data": {
      "text/html": [
       "<div>\n",
       "<style scoped>\n",
       "    .dataframe tbody tr th:only-of-type {\n",
       "        vertical-align: middle;\n",
       "    }\n",
       "\n",
       "    .dataframe tbody tr th {\n",
       "        vertical-align: top;\n",
       "    }\n",
       "\n",
       "    .dataframe thead th {\n",
       "        text-align: right;\n",
       "    }\n",
       "</style>\n",
       "<table border=\"1\" class=\"dataframe\">\n",
       "  <thead>\n",
       "    <tr style=\"text-align: right;\">\n",
       "      <th></th>\n",
       "      <th>datetime</th>\n",
       "      <th>season</th>\n",
       "      <th>holiday</th>\n",
       "      <th>workingday</th>\n",
       "      <th>weather</th>\n",
       "      <th>temp</th>\n",
       "      <th>atemp</th>\n",
       "      <th>humidity</th>\n",
       "      <th>windspeed</th>\n",
       "      <th>casual</th>\n",
       "      <th>registered</th>\n",
       "      <th>count</th>\n",
       "    </tr>\n",
       "  </thead>\n",
       "  <tbody>\n",
       "    <tr>\n",
       "      <th>0</th>\n",
       "      <td>2011-01-01 00:00:00</td>\n",
       "      <td>1</td>\n",
       "      <td>0</td>\n",
       "      <td>0</td>\n",
       "      <td>1</td>\n",
       "      <td>9.84</td>\n",
       "      <td>14.395</td>\n",
       "      <td>81</td>\n",
       "      <td>0.0</td>\n",
       "      <td>3</td>\n",
       "      <td>13</td>\n",
       "      <td>16</td>\n",
       "    </tr>\n",
       "    <tr>\n",
       "      <th>1</th>\n",
       "      <td>2011-01-01 01:00:00</td>\n",
       "      <td>1</td>\n",
       "      <td>0</td>\n",
       "      <td>0</td>\n",
       "      <td>1</td>\n",
       "      <td>9.02</td>\n",
       "      <td>13.635</td>\n",
       "      <td>80</td>\n",
       "      <td>0.0</td>\n",
       "      <td>8</td>\n",
       "      <td>32</td>\n",
       "      <td>40</td>\n",
       "    </tr>\n",
       "    <tr>\n",
       "      <th>2</th>\n",
       "      <td>2011-01-01 02:00:00</td>\n",
       "      <td>1</td>\n",
       "      <td>0</td>\n",
       "      <td>0</td>\n",
       "      <td>1</td>\n",
       "      <td>9.02</td>\n",
       "      <td>13.635</td>\n",
       "      <td>80</td>\n",
       "      <td>0.0</td>\n",
       "      <td>5</td>\n",
       "      <td>27</td>\n",
       "      <td>32</td>\n",
       "    </tr>\n",
       "    <tr>\n",
       "      <th>3</th>\n",
       "      <td>2011-01-01 03:00:00</td>\n",
       "      <td>1</td>\n",
       "      <td>0</td>\n",
       "      <td>0</td>\n",
       "      <td>1</td>\n",
       "      <td>9.84</td>\n",
       "      <td>14.395</td>\n",
       "      <td>75</td>\n",
       "      <td>0.0</td>\n",
       "      <td>3</td>\n",
       "      <td>10</td>\n",
       "      <td>13</td>\n",
       "    </tr>\n",
       "    <tr>\n",
       "      <th>4</th>\n",
       "      <td>2011-01-01 04:00:00</td>\n",
       "      <td>1</td>\n",
       "      <td>0</td>\n",
       "      <td>0</td>\n",
       "      <td>1</td>\n",
       "      <td>9.84</td>\n",
       "      <td>14.395</td>\n",
       "      <td>75</td>\n",
       "      <td>0.0</td>\n",
       "      <td>0</td>\n",
       "      <td>1</td>\n",
       "      <td>1</td>\n",
       "    </tr>\n",
       "  </tbody>\n",
       "</table>\n",
       "</div>"
      ],
      "text/plain": [
       "              datetime  season  holiday  workingday  weather  temp   atemp  \\\n",
       "0  2011-01-01 00:00:00       1        0           0        1  9.84  14.395   \n",
       "1  2011-01-01 01:00:00       1        0           0        1  9.02  13.635   \n",
       "2  2011-01-01 02:00:00       1        0           0        1  9.02  13.635   \n",
       "3  2011-01-01 03:00:00       1        0           0        1  9.84  14.395   \n",
       "4  2011-01-01 04:00:00       1        0           0        1  9.84  14.395   \n",
       "\n",
       "   humidity  windspeed  casual  registered  count  \n",
       "0        81        0.0       3          13     16  \n",
       "1        80        0.0       8          32     40  \n",
       "2        80        0.0       5          27     32  \n",
       "3        75        0.0       3          10     13  \n",
       "4        75        0.0       0           1      1  "
      ]
     },
     "execution_count": 12,
     "metadata": {},
     "output_type": "execute_result"
    }
   ],
   "source": [
    "df=pd.read_csv(\"bike_sharing.csv\")\n",
    "df.head()"
   ]
  },
  {
   "cell_type": "code",
   "execution_count": 14,
   "id": "12c8ef61",
   "metadata": {},
   "outputs": [
    {
     "data": {
      "text/plain": [
       "(10886, 12)"
      ]
     },
     "execution_count": 14,
     "metadata": {},
     "output_type": "execute_result"
    }
   ],
   "source": [
    "df.shape"
   ]
  },
  {
   "cell_type": "code",
   "execution_count": 15,
   "id": "8757eec1",
   "metadata": {},
   "outputs": [
    {
     "name": "stdout",
     "output_type": "stream",
     "text": [
      "<class 'pandas.core.frame.DataFrame'>\n",
      "RangeIndex: 10886 entries, 0 to 10885\n",
      "Data columns (total 12 columns):\n",
      " #   Column      Non-Null Count  Dtype  \n",
      "---  ------      --------------  -----  \n",
      " 0   datetime    10886 non-null  object \n",
      " 1   season      10886 non-null  int64  \n",
      " 2   holiday     10886 non-null  int64  \n",
      " 3   workingday  10886 non-null  int64  \n",
      " 4   weather     10886 non-null  int64  \n",
      " 5   temp        10886 non-null  float64\n",
      " 6   atemp       10886 non-null  float64\n",
      " 7   humidity    10886 non-null  int64  \n",
      " 8   windspeed   10886 non-null  float64\n",
      " 9   casual      10886 non-null  int64  \n",
      " 10  registered  10886 non-null  int64  \n",
      " 11  count       10886 non-null  int64  \n",
      "dtypes: float64(3), int64(8), object(1)\n",
      "memory usage: 1020.7+ KB\n"
     ]
    }
   ],
   "source": [
    "df.info()"
   ]
  },
  {
   "cell_type": "code",
   "execution_count": 16,
   "id": "0bc5fbb5",
   "metadata": {},
   "outputs": [
    {
     "data": {
      "text/plain": [
       "datetime      0\n",
       "season        0\n",
       "holiday       0\n",
       "workingday    0\n",
       "weather       0\n",
       "temp          0\n",
       "atemp         0\n",
       "humidity      0\n",
       "windspeed     0\n",
       "casual        0\n",
       "registered    0\n",
       "count         0\n",
       "dtype: int64"
      ]
     },
     "execution_count": 16,
     "metadata": {},
     "output_type": "execute_result"
    }
   ],
   "source": [
    "df.isnull().sum()"
   ]
  },
  {
   "cell_type": "code",
   "execution_count": 17,
   "id": "16bf8469",
   "metadata": {},
   "outputs": [
    {
     "data": {
      "text/plain": [
       "0.9849481104817077"
      ]
     },
     "execution_count": 17,
     "metadata": {},
     "output_type": "execute_result"
    }
   ],
   "source": [
    "df[\"temp\"].corr(df[\"atemp\"])"
   ]
  },
  {
   "cell_type": "markdown",
   "id": "d6075352",
   "metadata": {},
   "source": [
    "Atemp and temp has correlation of 0.985. They are providing the same information. We will drop the atemp feature and also datetime for our simplicity."
   ]
  },
  {
   "cell_type": "code",
   "execution_count": 18,
   "id": "fd6bbe55",
   "metadata": {},
   "outputs": [],
   "source": [
    "df.drop(['datetime','atemp'],axis = 1,inplace=True)"
   ]
  },
  {
   "cell_type": "code",
   "execution_count": 19,
   "id": "741b199c",
   "metadata": {},
   "outputs": [
    {
     "data": {
      "text/plain": [
       "season          4\n",
       "holiday         2\n",
       "workingday      2\n",
       "weather         4\n",
       "temp           49\n",
       "humidity       89\n",
       "windspeed      28\n",
       "casual        309\n",
       "registered    731\n",
       "count         822\n",
       "dtype: int64"
      ]
     },
     "execution_count": 19,
     "metadata": {},
     "output_type": "execute_result"
    }
   ],
   "source": [
    "#check the unique values in each column\n",
    "df.apply(lambda x : x.nunique())"
   ]
  },
  {
   "cell_type": "code",
   "execution_count": 25,
   "id": "255d2f19",
   "metadata": {},
   "outputs": [
    {
     "data": {
      "text/plain": [
       "array([[-1.33366069,  0.99321305, -1.56775367, -0.66099193, -0.94385353],\n",
       "       [-1.43890721,  0.94124921, -1.56775367, -0.56090822, -0.81805246],\n",
       "       [-1.43890721,  0.94124921, -1.56775367, -0.62095844, -0.851158  ],\n",
       "       ...,\n",
       "       [-0.80742813, -0.04606385,  0.26970368, -0.64097518,  0.05593396],\n",
       "       [-0.80742813, -0.04606385, -0.83244247, -0.48084125, -0.25525818],\n",
       "       [-0.91267464,  0.21375537, -0.46560752, -0.64097518, -0.47375478]])"
      ]
     },
     "execution_count": 25,
     "metadata": {},
     "output_type": "execute_result"
    }
   ],
   "source": [
    "#standardize all the numerical features\n",
    "num_scaled = scale(df[['temp','humidity','windspeed','casual','registered']],copy=False)\n",
    "#scale takes the difference of each values from the mean and divide by standard deviation\n",
    "num_scaled"
   ]
  },
  {
   "cell_type": "markdown",
   "id": "3d41d3dc",
   "metadata": {},
   "source": [
    "### Preparing Data for t-test\n",
    "* Now we will perform t-test to check whether the number of bike rentals are dependent on working day or not. For this we will use two sample t-test.\n",
    "* Two sample t-test is used to check whether the means of two samples(group) are same or different. We want to check whether the number of bikes rented on working day are different then number of bikes rented on non working days.\n",
    "* Let's check the mean of bikes rented on working and non-working days."
   ]
  },
  {
   "cell_type": "code",
   "execution_count": 31,
   "id": "564e7429",
   "metadata": {},
   "outputs": [
    {
     "data": {
      "text/html": [
       "<div>\n",
       "<style scoped>\n",
       "    .dataframe tbody tr th:only-of-type {\n",
       "        vertical-align: middle;\n",
       "    }\n",
       "\n",
       "    .dataframe tbody tr th {\n",
       "        vertical-align: top;\n",
       "    }\n",
       "\n",
       "    .dataframe thead th {\n",
       "        text-align: right;\n",
       "    }\n",
       "</style>\n",
       "<table border=\"1\" class=\"dataframe\">\n",
       "  <thead>\n",
       "    <tr style=\"text-align: right;\">\n",
       "      <th></th>\n",
       "      <th>count</th>\n",
       "      <th>mean</th>\n",
       "      <th>std</th>\n",
       "      <th>min</th>\n",
       "      <th>25%</th>\n",
       "      <th>50%</th>\n",
       "      <th>75%</th>\n",
       "      <th>max</th>\n",
       "    </tr>\n",
       "    <tr>\n",
       "      <th>workingday</th>\n",
       "      <th></th>\n",
       "      <th></th>\n",
       "      <th></th>\n",
       "      <th></th>\n",
       "      <th></th>\n",
       "      <th></th>\n",
       "      <th></th>\n",
       "      <th></th>\n",
       "    </tr>\n",
       "  </thead>\n",
       "  <tbody>\n",
       "    <tr>\n",
       "      <th>0</th>\n",
       "      <td>3474.0</td>\n",
       "      <td>188.506621</td>\n",
       "      <td>173.724015</td>\n",
       "      <td>1.0</td>\n",
       "      <td>44.0</td>\n",
       "      <td>128.0</td>\n",
       "      <td>304.0</td>\n",
       "      <td>783.0</td>\n",
       "    </tr>\n",
       "    <tr>\n",
       "      <th>1</th>\n",
       "      <td>7412.0</td>\n",
       "      <td>193.011873</td>\n",
       "      <td>184.513659</td>\n",
       "      <td>1.0</td>\n",
       "      <td>41.0</td>\n",
       "      <td>151.0</td>\n",
       "      <td>277.0</td>\n",
       "      <td>977.0</td>\n",
       "    </tr>\n",
       "  </tbody>\n",
       "</table>\n",
       "</div>"
      ],
      "text/plain": [
       "             count        mean         std  min   25%    50%    75%    max\n",
       "workingday                                                                \n",
       "0           3474.0  188.506621  173.724015  1.0  44.0  128.0  304.0  783.0\n",
       "1           7412.0  193.011873  184.513659  1.0  41.0  151.0  277.0  977.0"
      ]
     },
     "execution_count": 31,
     "metadata": {},
     "output_type": "execute_result"
    }
   ],
   "source": [
    "df.groupby(\"workingday\")[\"count\"].describe()"
   ]
  },
  {
   "cell_type": "markdown",
   "id": "1085bbd2",
   "metadata": {},
   "source": [
    "We can see that mean on working days is 193.0 and mean on the non-working day is 188.5. Definitely we can see that there is difference in the means of working and non working days. But the quetsion is, is this difference in the mean stastically significant or was it just due to random chance ?\n",
    "Steps for performing hypothesis testing.\n",
    "1. set up Null Hypothesis (H0)\n",
    "2. State the alternate hypothesis (H1)\n",
    "3. Set a significance level (alpha)\n",
    "4. Calculate test Statistics.\n",
    "5. Decision to accept or reject null hypothesis."
   ]
  },
  {
   "cell_type": "code",
   "execution_count": 32,
   "id": "94bc42a4",
   "metadata": {},
   "outputs": [],
   "source": [
    "#create 2 samples one for working days and one for non-working days\n",
    "sample_01 = df[df['workingday'] == 1]\n",
    "sample_02 = df[df['workingday'] == 0]"
   ]
  },
  {
   "cell_type": "code",
   "execution_count": 34,
   "id": "ea1e70aa",
   "metadata": {},
   "outputs": [
    {
     "name": "stdout",
     "output_type": "stream",
     "text": [
      "(7412, 10) (3474, 10)\n"
     ]
    }
   ],
   "source": [
    "print(sample_01.shape,sample_02.shape)"
   ]
  },
  {
   "cell_type": "code",
   "execution_count": 35,
   "id": "7dc6b143",
   "metadata": {},
   "outputs": [
    {
     "name": "stdout",
     "output_type": "stream",
     "text": [
      "(3474, 10) (3474, 10)\n"
     ]
    }
   ],
   "source": [
    "#make equal number of records in each sample\n",
    "sample_01 = sample_01.sample(3474)\n",
    "print(sample_01.shape,sample_02.shape)"
   ]
  },
  {
   "cell_type": "markdown",
   "id": "8b56090c",
   "metadata": {},
   "source": [
    "Before directly jumping for hypothesis testing we have to check for different assumptions related to the kind of\n",
    "hypothesis test we want to perform.\n",
    "\n",
    "### Assumption for T-Test\n",
    "1. The variances of the 2 samples are equal(We will use Levene's test to check this assumption).\n",
    "2. The distrubtion of the residuals b/w the two groups should follow the normal distribution. We can plot histogram and see whether the distribution follows the normal distribution or not. We can also plot a Q-Q plot. We can check the normality using shapiro-wilks test as well"
   ]
  },
  {
   "cell_type": "code",
   "execution_count": 36,
   "id": "6c64a401",
   "metadata": {},
   "outputs": [],
   "source": [
    "#Levene's test to check whether the variances of the two group are same.\n",
    "#H0 : Variances are same.\n",
    "#H1 : Variances are not same.\n",
    "#Alpha = 0.05%\n",
    "#if p-value > alpha (Cannot reject H0)\n",
    "#if p-value < alpha (Accept null hypothesis)"
   ]
  },
  {
   "cell_type": "code",
   "execution_count": 38,
   "id": "78cb02d2",
   "metadata": {},
   "outputs": [
    {
     "name": "stdout",
     "output_type": "stream",
     "text": [
      " Test statistics : 0.0 \n",
      " Alpha : 0.05 \n",
      " P-value : 1.0\n",
      " Variances are same accept null hypothesis \n"
     ]
    }
   ],
   "source": [
    "alpha = 0.05\n",
    "Stats,Pvalue = stats.levene(sample_01['count'],sample_01['count'])\n",
    "print(f' Test statistics : {Stats} \\n Alpha : {alpha} \\n P-value : {Pvalue}')\n",
    "if Pvalue > alpha:\n",
    "    print(' Variances are same accept null hypothesis ')\n",
    "else:\n",
    "    print(' Variances are not same reject not null hypothesis ')"
   ]
  },
  {
   "cell_type": "markdown",
   "id": "002e0ef0",
   "metadata": {},
   "source": [
    "### Check for normality"
   ]
  },
  {
   "cell_type": "code",
   "execution_count": 39,
   "id": "608ccc34",
   "metadata": {},
   "outputs": [
    {
     "data": {
      "image/png": "[encoded data removed]",
      "text/plain": [
       "<Figure size 864x432 with 1 Axes>"
      ]
     },
     "metadata": {
      "needs_background": "light"
     },
     "output_type": "display_data"
    }
   ],
   "source": [
    "# we will scale the difference\n",
    "diff = scale((np.array(sample_01['count']) - np.array(sample_02['count'])))\n",
    "plt.figure(figsize=(12,6))\n",
    "plt.hist(diff)\n",
    "plt.show()"
   ]
  },
  {
   "cell_type": "markdown",
   "id": "551c1813",
   "metadata": {},
   "source": [
    "The distribution seems very close to normal distribution. Let's check other methods to check the normality of the residuals.\n",
    "* Q-Q plot, Generates the a probability of sample data against the quantiles of theoretical distributions."
   ]
  },
  {
   "cell_type": "code",
   "execution_count": 40,
   "id": "a8f5d3da",
   "metadata": {},
   "outputs": [
    {
     "data": {
      "image/png": "[encoded data removed]",
      "text/plain": [
       "<Figure size 864x432 with 1 Axes>"
      ]
     },
     "metadata": {
      "needs_background": "light"
     },
     "output_type": "display_data"
    }
   ],
   "source": [
    "#q-q plot to check the normality\n",
    "plt.figure(figsize=(12,6))\n",
    "stats.probplot(diff,plot=plt,dist='norm')\n",
    "plt.show()"
   ]
  },
  {
   "cell_type": "code",
   "execution_count": 41,
   "id": "156c1f4a",
   "metadata": {},
   "outputs": [
    {
     "name": "stdout",
     "output_type": "stream",
     "text": [
      "Reject Null Hypothesis p-value : 9.957431580664977e-12\n"
     ]
    }
   ],
   "source": [
    "#Stastical test for checking normality\n",
    "#Shapiro-wilk test\n",
    "#H0 : Normally distributed\n",
    "#H1 : Not Normally distributed\n",
    "alpha = 0.05\n",
    "statistic,p_value = stats.shapiro(diff)\n",
    "if p_value > alpha:\n",
    "    print(f'Accept Null Hypothesis p-value : {p_value}')\n",
    "else:\n",
    "    print(f'Reject Null Hypothesis p-value : {p_value}')"
   ]
  },
  {
   "cell_type": "markdown",
   "id": "dfd3b4de",
   "metadata": {},
   "source": [
    "Here shapiro wilk test shows that the residuals are not normally distributed. for demonstration purpose We will continue with t-test, but in practice we should not perform t-test when the assumption of normality is voilated."
   ]
  },
  {
   "cell_type": "code",
   "execution_count": 43,
   "id": "e0e43251",
   "metadata": {},
   "outputs": [
    {
     "name": "stdout",
     "output_type": "stream",
     "text": [
      "Fail to reject Null Hypothesis p-value is 0.17707710855121822\n"
     ]
    }
   ],
   "source": [
    "# H0 : There's no difference in mean (Bike rental doesn't depends on workingday)\n",
    "# H1 : There's a difference in mean (Bike rental depends on workingday)\n",
    "# Alpha : 0.05%\n",
    "alpha = 0.05\n",
    "statistic , p_value = stats.ttest_ind(sample_01['count'],sample_02['count'])\n",
    "if p_value > alpha:\n",
    "    print(f'Fail to reject Null Hypothesis p-value is {p_value}')\n",
    "else:\n",
    "    print('Reject Null Hypothesis')"
   ]
  },
  {
   "cell_type": "markdown",
   "id": "10e6c674",
   "metadata": {},
   "source": [
    "As we can see that the p-value is greater than alpha. So we can't reject our null hypothesis.\n",
    "working day has no effect on number of bikes rented."
   ]
  },
  {
   "cell_type": "code",
   "execution_count": null,
   "id": "d116ad5a",
   "metadata": {},
   "outputs": [],
   "source": []
  }
 ],
 "metadata": {
  "kernelspec": {
   "display_name": "Python 3 (ipykernel)",
   "language": "python",
   "name": "python3"
  },
  "language_info": {
   "codemirror_mode": {
    "name": "ipython",
    "version": 3
   },
   "file_extension": ".py",
   "mimetype": "text/x-python",
   "name": "python",
   "nbconvert_exporter": "python",
   "pygments_lexer": "ipython3",
   "version": "3.10.1"
  }
 },
 "nbformat": 4,
 "nbformat_minor": 5
}
